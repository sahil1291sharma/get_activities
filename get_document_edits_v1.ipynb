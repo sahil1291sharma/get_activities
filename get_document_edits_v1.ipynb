{
  "nbformat": 4,
  "nbformat_minor": 0,
  "metadata": {
    "colab": {
      "name": "get_document_edits_v1.ipynb",
      "provenance": [],
      "collapsed_sections": []
    },
    "kernelspec": {
      "name": "python3",
      "display_name": "Python 3"
    },
    "language_info": {
      "name": "python"
    }
  },
  "cells": [
    {
      "cell_type": "code",
      "source": [
        "\"\"\"This script focuses on extracting the edits from a Google Doc and placing all of the\n",
        "data associated with those edits, including the editor's name, \n",
        "the time the edit was made, the document the edit was made on \"\"\"\n",
        "!pip install --upgrade google-api-python-client google-auth-httplib2 google-auth-oauthlib\n",
        "!pip install oauth2client\n",
        "!pip install pandas\n",
        "!pip install regex\n",
        "!pip install gspread\n",
        "!pip install pytz"
      ],
      "metadata": {
        "id": "Aplx8uWDcZtD"
      },
      "execution_count": null,
      "outputs": []
    },
    {
      "cell_type": "code",
      "source": [
        "'''This cell executes the authentication process\n",
        "Pre requisites: token.json and client_secret.json from google cloud platform\n",
        "Before running locally ->  pip install --upgrade google-api-python-client google-auth-httplib2 google-auth-oauthlib\n",
        "Copy the content of the cell and run it on your local machine to get token.json file\n",
        "token expires after a week, delete the previous token and run the local machine script again to get a new token\n",
        "Go to google cloud platform and obtain client_Secret.json file\n",
        "Upload both the files in the runtime environment and run this cell'''\n",
        "\n",
        "from __future__ import print_function\n",
        "import os.path\n",
        "from googleapiclient.discovery import build\n",
        "from google_auth_oauthlib.flow import InstalledAppFlow\n",
        "from google.auth.transport.requests import Request\n",
        "from google.oauth2.credentials import Credentials\n",
        "import pytz\n",
        "from datetime import datetime, timezone\n",
        "import time\n",
        "import pandas as pd\n",
        "import re\n",
        "import os\n",
        "\n",
        "# If modifying these scopes, delete the file token.json.\n",
        "SCOPES = [\"https://www.googleapis.com/auth/drive\", 'https://www.googleapis.com/auth/drive.activity', \n",
        "          'https://www.googleapis.com/auth/contacts', 'https://www.googleapis.com/auth/userinfo.profile'] \n",
        "\n",
        "creds = None\n",
        "# The file token.json stores the user's access and refresh tokens, and is\n",
        "# created automatically when the authorization flow completes for the first\n",
        "# time.\n",
        "if os.path.exists('token.json'):\n",
        "    creds = Credentials.from_authorized_user_file('token.json', SCOPES)\n",
        "# If there are no (valid) credentials available, let the user log in.\n",
        "if not creds or not creds.valid:\n",
        "    if creds and creds.expired and creds.refresh_token:\n",
        "        creds.refresh(Request())\n",
        "    else:\n",
        "        flow = InstalledAppFlow.from_client_secrets_file(\n",
        "            'client_secret.json', SCOPES)\n",
        "        creds = flow.run_local_server(port=0)\n",
        "    # Save the credentials for the next run\n",
        "    with open('token.json', 'w') as token:\n",
        "        token.write(creds.to_json())\n"
      ],
      "metadata": {
        "id": "5Lrx5fAlcd-X"
      },
      "execution_count": null,
      "outputs": []
    },
    {
      "cell_type": "code",
      "source": [
        "#This cell sets up the services required\n",
        "\"\"\"\n",
        "1. Following services can get number of revisions made to an item in the drive\n",
        "2. Get number of edits made to an item in drive or shared drive\n",
        "3. Reference file metadata to access contacts and get info about people who edited an item\n",
        "\"\"\"\n",
        "\n",
        "#Drive service to access revisions of a file\n",
        "drive_service = build('drive', 'v3', credentials=creds)\n",
        "\n",
        "#Service to get activity on a drive item and get metadata like timestamps, resourceName, filenames, etc\n",
        "drive_activity_service = build('driveactivity', 'v2', credentials=creds)\n",
        "\n",
        "#Access google account contacts using resourceName to get names, email address of the modifier.  \n",
        "people_service = build('people', 'v1', credentials=creds)\n"
      ],
      "metadata": {
        "id": "eOafMSk34MlF"
      },
      "execution_count": null,
      "outputs": []
    },
    {
      "cell_type": "code",
      "source": [
        "#this cell creates and maintains users list\n",
        "users_list = {}\n",
        "def get_user_name(resource_name):\n",
        "  \"\"\"\n",
        "     This function takes a person's resource name and puts its corresponding\n",
        "     details into a hashmap \n",
        "    \n",
        "    Args: \n",
        "      resource_name(str) - resource name of the person who made an edit to the document\n",
        "\n",
        "    Returns: \n",
        "      void function. writes people/id: name to hashmap\n",
        "    \n",
        "    Considerations:\n",
        "      To get name of the person who made an edit, the person must be added to your \n",
        "      google contacts.\n",
        "    \n",
        "    Side Effects:\n",
        "      Can only write details of a resource id if the said person is a contact in\n",
        "      google workspace\n",
        "  \"\"\"\n",
        "  global users_list\n",
        "  if resource_name not in users_list:\n",
        "    user = people_service.people().get(resourceName=resource_name,personFields='names').execute()\n",
        "    user = user[ 'names'][0]['displayName']\n",
        "    users_list[resource_name] = user\n",
        "  return"
      ],
      "metadata": {
        "id": "NHx-dHV-0kKI"
      },
      "execution_count": null,
      "outputs": []
    },
    {
      "cell_type": "code",
      "source": [
        "#This cell gets edits on a drive item and saves it to a CSV file\n",
        "\n",
        "def get_edits_info(file_id, team_name):\n",
        "  \"\"\"\n",
        "     This function takes the item id of a Google document \n",
        "     and fetches it's edits information\n",
        "    \n",
        "    Args: \n",
        "      file_id(str) - Id of the file for which edits are to be determined\n",
        "      filename(str) - csv file to which we want to write data\n",
        "\n",
        "    Returns: \n",
        "      Function is a void function. It just writes the dataframe to a csv file\n",
        "    \n",
        "    \n",
        "    Side Effects:\n",
        "      The function writes to the csv file in append mode. There could be duplicates\n",
        "      if the function gets the same file id multiple times. \n",
        "  \"\"\"\n",
        "  global users_list\n",
        "  time.sleep(5)\n",
        "  drive_activity_results = drive_activity_service.activity().query(\n",
        "    body={\"pageSize\": 1000,\"itemName\": f\"items/{file_id}\"}).execute()\n",
        "\n",
        "  activities = drive_activity_results.get('activities', [])\n",
        "  filename = []\n",
        "  users = []\n",
        "  mod_at = []\n",
        "  team = []\n",
        "  count = 1\n",
        "  for activ in activities:\n",
        "    resource_name = activ['actors'][0]['user']['knownUser']['personName']\n",
        "    get_user_name(resource_name)\n",
        "  for activity in activities:\n",
        "      try:\n",
        "          est = pytz.timezone('US/Eastern')\n",
        "          utc = pytz.utc\n",
        "          fmt = '%Y-%m-%d %H:%M:%S.%f'\n",
        "          timestamp = activity['timestamp'][:-1]\n",
        "          formatted_timestamp = datetime.strptime(timestamp, '%Y-%m-%dT%H:%M:%S.%f')\n",
        "          utc_time =formatted_timestamp.replace(tzinfo=timezone.utc)\n",
        "          est_time = utc_time.astimezone(est).strftime(fmt)\n",
        "          file_name = activity['targets'][0]['driveItem']['title']\n",
        "          resource_name = activity['actors'][0]['user']['knownUser']['personName']\n",
        "          user = users_list[resource_name]\n",
        "          filename.append(file_name)\n",
        "          users.append(user)\n",
        "          mod_at.append(est_time)\n",
        "          team.append(team_name)\n",
        "      except:\n",
        "          print(f\"{count} record(s) skipped for team: {team_name} and file: {filename[0]}\")\n",
        "          count +=1\n",
        " \n",
        "  print(f\"Writing {filename[0]} data to {team_name}.csv...\")\n",
        "  data = { \"Team Name\": team, \"File\": filename, \"Modified By\": users, \"Modified at\": mod_at}\n",
        "  df = pd.DataFrame(data)\n",
        "  df.to_csv(f\"{team_name}.csv\", sep=',', mode=\"a\", index=False)\n",
        "  print(f\"{filename[0]} data written to {team_name}.csv...\")\n",
        "  return"
      ],
      "metadata": {
        "id": "EqG3gQrJUDwc"
      },
      "execution_count": null,
      "outputs": []
    },
    {
      "cell_type": "code",
      "source": [
        "#This cell sets up 4 methods\n",
        "#1. gets folder's id from the folder url\n",
        "#2. gets item id from a specific folder using the folder url and filename\n",
        "#3. get file ids of all the files in a specified folder\n",
        "#4. get ids of child folders in a parent folder\n",
        "\n",
        "def get_folder_id(url):\n",
        "  \"\"\"This function takes the URL of a Google Docs folder and \n",
        "    generates the folder's ID.\n",
        "    \n",
        "    Args: \n",
        "      url(str) - The folder URL\n",
        "    \n",
        "    Returns: \n",
        "      The folder's ID, which can be used to uniquely identify\n",
        "        the Google Drive folder in question.\n",
        "    \n",
        "    Side Effects:\n",
        "      Creates a search variable for regex to locate the file ID.\"\"\"\n",
        "\n",
        "  search = '/folders/\\S*'\n",
        "  try:\n",
        "    folder_id = re.findall(search, url)\n",
        "    folder_id = folder_id[0]\n",
        "    folder_id = folder_id[9:]\n",
        "    return folder_id\n",
        "  except:\n",
        "    return None\n",
        "\n",
        "def get_id_by_name(url, filenames):\n",
        "  \"\"\"This function takes the URL of a Google Docs folder along with the name of \n",
        "     a file and generates the file's id.\n",
        "    \n",
        "    Args: \n",
        "      url(str) - The folder URL\n",
        "      filenames(list) - list of filenames to be identified\n",
        "    \n",
        "    Returns: \n",
        "      The file IDs list, which can be used to uniquely identify the file\n",
        "        within the Google Drive folder in question.\n",
        "    \n",
        "    Side Effects:\n",
        "      returns None if exact match is not found\"\"\"\n",
        "\n",
        "  folder_id = get_folder_id(url)\n",
        "  file_ids = set()\n",
        "  try:\n",
        "    for filename in filenames:\n",
        "      file_metadata = drive_service.files().list(q=f\"'{folder_id}' in parents and name = '{filename}'\", \n",
        "      fields='nextPageToken, files(id, name)').execute()\n",
        "      file_ids.add(file_metadata['files'][0]['id'])\n",
        "    return file_ids\n",
        "  except:\n",
        "    return None\n",
        "\n",
        "def get_file_list(url):\n",
        "  \"\"\"This function takes the URL of a Google Docs folder and finds ids of all the files in it.\n",
        "    \n",
        "    Args: \n",
        "      url(str) - The folder URL\n",
        "    \n",
        "    Returns: \n",
        "      Set of file ids, within the Google Drive folder in question.\n",
        "    \n",
        "    Side Effects:\n",
        "      Will identify only google document type files\"\"\"\n",
        "  folder_id = get_folder_id(url)\n",
        "  file_ids = set()\n",
        "  try:\n",
        "    google_docs = drive_service.files().list(q=f\"'{folder_id}' in parents and mimeType='application/vnd.google-apps.document'\").execute()\n",
        "    google_docs = google_docs['files']\n",
        "    for google_doc in google_docs:\n",
        "      file_ids.add(google_doc['id'])\n",
        "    \n",
        "    return file_ids\n",
        "  except:\n",
        "    return None\n",
        "\n",
        "def get_child_folders(url):\n",
        "  \"\"\"This function takes the URL of a Google Docs folder and finds ids of all the folders in it.\n",
        "    \n",
        "    Args: \n",
        "      url(str) - The folder URL\n",
        "    \n",
        "    Returns: \n",
        "      Set of folder ids, within the Google Drive folder in question.\n",
        "    \n",
        "    Side Effects:\n",
        "      Will identify only google folder type items\"\"\"\n",
        "  folder_id = get_folder_id(url)\n",
        "  folders_list = set()\n",
        "  try:\n",
        "    folders_metadata = drive_service.files().list(q=f\"'{folder_id}' in parents and mimeType='application/vnd.google-apps.folder'\").execute()\n",
        "    folders_metadata  = folders_metadata['files']\n",
        "    for folder_metadata  in folders_metadata :\n",
        "      folders_list.add((folder_metadata['name'],f\"/folders/{folder_metadata['id']}\"))\n",
        "    return folders_list\n",
        "  except:\n",
        "    return None\n"
      ],
      "metadata": {
        "id": "I_Rii8Y9V_VG"
      },
      "execution_count": null,
      "outputs": []
    },
    {
      "cell_type": "code",
      "source": [
        "#This cell gets child folders of a parent folder\n",
        "#Cell gets information of the files that are listed in the file_names list\n",
        "#team folder url: https://drive.google.com/drive/u/0/folders/1PiYcfs3x1SXlKaSZ-2DenRxX0YuMG3wH\n",
        "import time\n",
        "file_names = [\"Day 1 Reflection X\", \"Day 2 Reflection\", \"Day 3 Reflection\"]\n",
        "\n",
        "folder_url = input(\"Paste folder url here: \")\n",
        "\n",
        "#each entry in the set consists of a tuple of folder name and folder ID\n",
        "folder_list = list(get_child_folders(folder_url))\n",
        "# count = 0\n",
        "folder_list.sort()\n",
        "for x in folder_list:\n",
        "  print(x[0])\n",
        "  # count+=1"
      ],
      "metadata": {
        "id": "XwJZiCzGMVSY",
        "colab": {
          "base_uri": "https://localhost:8080/"
        },
        "outputId": "459a369f-9fa6-4f89-ef0d-969774ad7dac"
      },
      "execution_count": null,
      "outputs": [
        {
          "output_type": "stream",
          "name": "stdout",
          "text": [
            "Paste folder url here: https://drive.google.com/drive/u/0/folders/1PiYcfs3x1SXlKaSZ-2DenRxX0YuMG3wH\n",
            "Team ALPHA\n",
            "Team ALPHA Prime\n",
            "Team BRAVO\n",
            "Team CHARLIE\n",
            "Team DUO\n",
            "Team ECHO\n",
            "Team FOX-TROT\n",
            "Team GOLF\n",
            "Team HOTEL\n",
            "Team JULIET\n",
            "Team KILO\n",
            "Team LIMA\n",
            "Team MIKE\n",
            "Team NOVEMBER\n",
            "Team OSCAR\n",
            "Team PAPPA\n",
            "Team QUEBEC\n",
            "Team ROMEO\n",
            "Team SIERRA\n",
            "Team TANGO\n",
            "Team UNIFORM\n",
            "Team UNO\n",
            "Team VICTOR\n",
            "Team WHISKEY\n",
            "Team X-RAY\n",
            "Team YANKEE\n",
            "Team ZULU\n",
            "Y-Files\n"
          ]
        }
      ]
    },
    {
      "cell_type": "code",
      "source": [
        "# after we get the folder list, \n",
        "# we can iterate over the list and get all the files within each folder\n",
        "for folder_name in folder_list:\n",
        "  it_ids = get_id_by_name(folder_name[1], file_names)\n",
        "  for it_id in it_ids:\n",
        "    get_edits_info(it_id, folder_name[0])"
      ],
      "metadata": {
        "id": "uI7XEV1foRit"
      },
      "execution_count": null,
      "outputs": []
    },
    {
      "cell_type": "code",
      "source": [
        "# after we get the folder list, \n",
        "# we can iterate over the list manually by changing the index and get all the files within each folder\n",
        "#Run the cell only if you want to get edits of a specific file\n",
        "try:\n",
        "  folder_id = 0 #choose index that corresponds to a folder name in above cell\n",
        "  item_ids = get_id_by_name(folder_list[folder_id][1], file_names)\n",
        "  for item_id in item_ids:\n",
        "    get_edits_info(item_id, folder_list[folder_id][0])\n",
        "except:\n",
        "  print(\"issue with folder_id\", folder_id)\n",
        "  print(\"issue with item ids\", item_ids)\n",
        "  print(\"issue with item id\", item_id)"
      ],
      "metadata": {
        "id": "4AT5usqlF_wY",
        "colab": {
          "base_uri": "https://localhost:8080/"
        },
        "outputId": "70d55c9e-9bca-48a9-dd5d-a6fb357e5a82"
      },
      "execution_count": null,
      "outputs": [
        {
          "output_type": "stream",
          "name": "stdout",
          "text": [
            "Writing Day 2 Reflection data to Team ALPHA.csv...\n",
            "Day 2 Reflection data written to Team ALPHA.csv...\n",
            "Writing Day 1 Reflection X data to Team ALPHA.csv...\n",
            "Day 1 Reflection X data written to Team ALPHA.csv...\n",
            "1 record(s) skipped for team: Team ALPHA and file: Day 3 Reflection\n",
            "Writing Day 3 Reflection data to Team ALPHA.csv...\n",
            "Day 3 Reflection data written to Team ALPHA.csv...\n"
          ]
        }
      ]
    },
    {
      "cell_type": "code",
      "source": [
        "#combine all the csv files to a single filename of your choice\n",
        "\n",
        "filename = input(\"input a filename: \")\n",
        "\n",
        "try:\n",
        "  !cat *.csv >{filename}.csv\n",
        "  print(f\"{filename}.csv created successfully\")\n",
        "except:\n",
        "  print(\"File merge error!\")"
      ],
      "metadata": {
        "id": "qztD_V5w1Xe6",
        "colab": {
          "base_uri": "https://localhost:8080/"
        },
        "outputId": "0698b24a-1f8e-44d5-beb8-f2a90d6d6b21"
      },
      "execution_count": null,
      "outputs": [
        {
          "output_type": "stream",
          "name": "stdout",
          "text": [
            "input a filename: TeamAReflection\n",
            "cat: '*.csv': No such file or directory\n",
            "TeamAReflection.csv created successfully\n"
          ]
        }
      ]
    }
  ]
}